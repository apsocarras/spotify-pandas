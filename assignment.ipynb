{
 "cells": [
  {
   "cell_type": "code",
   "execution_count": null,
   "metadata": {},
   "outputs": [],
   "source": [
    "import pandas as pd \n",
    "import numpy as np\n",
    "\n",
    "albums = pd.read_csv(\"data/spotify_spotify_albums.csv\", index_col=0) \n",
    "artists = pd.read_csv(\"data/spotify_spotify_artists.csv\", index_col=0) \n",
    "tracks = pd.read_csv(\"data/spotify_spotify_tracks.csv\",index_col=0)"
   ]
  },
  {
   "cell_type": "markdown",
   "metadata": {},
   "source": [
    "#### Profiling Data"
   ]
  },
  {
   "cell_type": "code",
   "execution_count": null,
   "metadata": {},
   "outputs": [],
   "source": [
    "albums.head() # We see first 5 rows across all columns. This looks to be a wide dataset with many columns containing categorical variables.\n",
    "# Notice the first column: 'Unnamed: 0'. This is an index column that wasn't read correctly before we re-ran the previous block with 'index_col = 0'. \n",
    "# If we preferred not to re-read a large file like this, we could have typed:\n",
    "  # albums.drop(\"Unnamed: 0\", axis=1, inplace=True)\n",
    "# Or:\n",
    "  # albums = albums.iloc[:,1:] \n",
    "\n",
    "albums.tail() # Shows last 5 rows and lets us determine number of rows in dataframe (75511)\n",
    "albums.shape # Gives dimensionality of dataframe\n",
    "\n",
    "albums.loc[10:20,['name', 'release_date']]"
   ]
  },
  {
   "cell_type": "code",
   "execution_count": null,
   "metadata": {},
   "outputs": [],
   "source": [
    "print(artists.shape)\n",
    "artists.head() # This has two quantitative variable columns in 'artist_popularity' and 'followers'.\n",
    "artists.tail()\n"
   ]
  },
  {
   "cell_type": "code",
   "execution_count": null,
   "metadata": {},
   "outputs": [],
   "source": [
    "print(tracks.shape) # Logically, there are more tracks than albums, and there are more albums than artists\n",
    "tracks.head() # Another wide dataset with many quantitative variables. Joining with the other two sets could allow for interesting statistical analysis.\n",
    "tracks.tail()"
   ]
  },
  {
   "cell_type": "markdown",
   "metadata": {},
   "source": [
    "#### Cleaning and Normalizing Data"
   ]
  },
  {
   "cell_type": "code",
   "execution_count": null,
   "metadata": {},
   "outputs": [],
   "source": [
    "albums.drop_duplicates(inplace=True)\n",
    "artists.drop_duplicates(inplace=True)\n",
    "tracks.drop_duplicates(inplace=True)"
   ]
  },
  {
   "cell_type": "code",
   "execution_count": null,
   "metadata": {},
   "outputs": [],
   "source": [
    "def listFill(genre_list): \n",
    "  if genre_list == '[]': # didn't set the dtypes on read, so artists.genres was just read as strings\n",
    "    return np.nan\n",
    "  else: \n",
    "    return genre_list\n",
    "\n",
    "artists.genres = artists.genres.map(listFill)"
   ]
  },
  {
   "cell_type": "code",
   "execution_count": null,
   "metadata": {},
   "outputs": [],
   "source": [
    "print(tracks.columns)\n",
    "tracks.lyrics # These lyrics seem to render just fine in LibreOffice Calc. I imagine all the escape characters leading at the front of each line could cause issues for some programs.\n",
    "tracks.drop('lyrics', axis=1, inplace=True)\n",
    "print(tracks.columns)"
   ]
  },
  {
   "cell_type": "markdown",
   "metadata": {},
   "source": [
    "#### Joining Data"
   ]
  },
  {
   "cell_type": "markdown",
   "metadata": {},
   "source": [
    "##### _Albums and Artists_\n",
    "I chose a left join on albums because I want to analyze the albums primarily. \n",
    "If we did an inner join with artists or a right join on artists, we might lose any albums that didn't have any artists listed with them.\n",
    "We wouldn't want an outer join because we might include artists with only singles available on spotify and no albums. The rows of those artists would have many empty fields and tell us nothing about the albums."
   ]
  },
  {
   "cell_type": "code",
   "execution_count": null,
   "metadata": {},
   "outputs": [],
   "source": [
    "albums_artists = pd.merge(albums, artists, how='left', left_on=\"artist_id\", right_on=\"id\")\n",
    "albums_artists.head(1)"
   ]
  },
  {
   "cell_type": "markdown",
   "metadata": {},
   "source": [
    "That join did not work. Let's look at the columns where things got messy."
   ]
  },
  {
   "cell_type": "code",
   "execution_count": null,
   "metadata": {},
   "outputs": [],
   "source": [
    "albums_artists.filter(regex='_[xy]$', axis=1).head(1)"
   ]
  },
  {
   "cell_type": "markdown",
   "metadata": {},
   "source": [
    "Notice that `albums` and `artists` have multiple columns with the same names.\n",
    "\n",
    "* `name`: name of the album vs. the name of the artist.\n",
    "* `id`: id of the album vs. the id of the artist. We tried to join on `albums.artist_id` = `artists.id` but the fact that there is also an `albums.id` column confuses things.\n",
    "* `type`: 'album' vs. 'artist' (a static, dummy categorical variable we can drop from both dataframes)\n",
    "* `track_id`: id of every track in each album vs id of one sample song by each artist. We can drop `artists.track_id` when performing the join\n",
    "* `track_name_prev`: Frankly I'm not sure what this column is. I'm going to drop it in both."
   ]
  },
  {
   "cell_type": "code",
   "execution_count": null,
   "metadata": {},
   "outputs": [],
   "source": [
    "albums.rename({'name':'album_name','id':'album_id'},axis=1, inplace=True)\n",
    "artists.rename({'name':'artist_name','id':'artist_id'}, axis=1, inplace=True)\n",
    "albums.drop(['type', 'track_name_prev'], axis=1, inplace=True)\n",
    "artists.drop(['type', 'track_name_prev'], axis=1, inplace=True)"
   ]
  },
  {
   "cell_type": "code",
   "execution_count": null,
   "metadata": {},
   "outputs": [],
   "source": [
    "albums_artists2 = pd.merge(albums, artists.drop(['track_id'],axis=1), how='left', on='artist_id')\n",
    "\n",
    "print(albums_artists2.shape)\n",
    "albums_artists2.head()"
   ]
  },
  {
   "cell_type": "markdown",
   "metadata": {},
   "source": [
    "##### _Albums and tracks_"
   ]
  },
  {
   "cell_type": "markdown",
   "metadata": {},
   "source": [
    "Here I chose a right join on albums to go along with the previous dataframe I just made."
   ]
  },
  {
   "cell_type": "code",
   "execution_count": null,
   "metadata": {},
   "outputs": [],
   "source": [
    "albums_tracks = pd.merge(tracks, albums, how='right', left_on = [\"id\",\"album_id\"], right_on = [\"track_id\", 'album_id'])"
   ]
  },
  {
   "cell_type": "markdown",
   "metadata": {},
   "source": [
    "As before, it looks like there are some shared column names:"
   ]
  },
  {
   "cell_type": "code",
   "execution_count": null,
   "metadata": {},
   "outputs": [],
   "source": [
    "albums_tracks.filter(regex=\"_[xy]$\").head(1)"
   ]
  },
  {
   "cell_type": "markdown",
   "metadata": {},
   "source": [
    "In `albums` vs `tracks`, respectively:\n",
    "* `href`: URL to album vs URL to track\n",
    "* `uri`: URI for album vs URI for track"
   ]
  },
  {
   "cell_type": "code",
   "execution_count": null,
   "metadata": {},
   "outputs": [],
   "source": [
    "import re\n",
    "albums_tracks.rename(columns=lambda v: re.sub('_x$','_track',v), inplace = True)\n",
    "albums_tracks.rename(columns=lambda v: re.sub('_y$','_album',v), inplace = True)\n",
    "\n",
    "print(albums_tracks.shape)\n",
    "albums_tracks.head(3)"
   ]
  },
  {
   "cell_type": "markdown",
   "metadata": {},
   "source": [
    "* `available_markets`: These *should* just be the same, but now I wonder if in certain markets where an album is sold there are tracks that remain unavailable. There could also be some markets where a track is available but not the album it's on; these would have been excluded by our choice of join, however."
   ]
  },
  {
   "cell_type": "code",
   "execution_count": null,
   "metadata": {},
   "outputs": [],
   "source": [
    "availability_diff = albums_tracks.loc[albums_tracks.available_markets_track != albums_tracks.available_markets_album, ['available_markets_track', 'available_markets_album']]\n",
    "availability_diff\n",
    "# Interesting -- 156 such records exist. Hence these columns should indeed be distinct after our join."
   ]
  },
  {
   "cell_type": "markdown",
   "metadata": {},
   "source": [
    "#### Analyzing Data\n",
    "\n",
    "##### _Artists_\n",
    "1. Which artists appear the most times in `artists`?"
   ]
  },
  {
   "cell_type": "code",
   "execution_count": 300,
   "metadata": {},
   "outputs": [
    {
     "data": {
      "text/plain": [
       "artist_name\n",
       "Haze       5\n",
       "Sasha      5\n",
       "Luna       4\n",
       "Alex       4\n",
       "Plan B     4\n",
       "          ..\n",
       "VaVa       2\n",
       "Chris      2\n",
       "Belinda    2\n",
       "Amar       2\n",
       "Beast      2\n",
       "Name: artist_name, Length: 551, dtype: int64"
      ]
     },
     "execution_count": 300,
     "metadata": {},
     "output_type": "execute_result"
    }
   ],
   "source": [
    "artist_appearances = artists.groupby('artist_name').artist_name.count().sort_values(ascending=False)\n",
    "repeat_artists = artist_appearances[artist_appearances > 1]\n",
    "repeat_artists\n",
    "# 551 artists have multiple entries in artists, with Haze and Sasha tied for first."
   ]
  },
  {
   "cell_type": "code",
   "execution_count": 299,
   "metadata": {},
   "outputs": [
    {
     "data": {
      "text/html": [
       "<div>\n",
       "<style scoped>\n",
       "    .dataframe tbody tr th:only-of-type {\n",
       "        vertical-align: middle;\n",
       "    }\n",
       "\n",
       "    .dataframe tbody tr th {\n",
       "        vertical-align: top;\n",
       "    }\n",
       "\n",
       "    .dataframe thead th {\n",
       "        text-align: right;\n",
       "    }\n",
       "</style>\n",
       "<table border=\"1\" class=\"dataframe\">\n",
       "  <thead>\n",
       "    <tr style=\"text-align: right;\">\n",
       "      <th></th>\n",
       "      <th>artist_popularity</th>\n",
       "      <th>followers</th>\n",
       "      <th>genres</th>\n",
       "      <th>artist_id</th>\n",
       "      <th>artist_name</th>\n",
       "      <th>track_id</th>\n",
       "    </tr>\n",
       "  </thead>\n",
       "  <tbody>\n",
       "    <tr>\n",
       "      <th>27267</th>\n",
       "      <td>34</td>\n",
       "      <td>125</td>\n",
       "      <td>NaN</td>\n",
       "      <td>2vRMFS86tSrD1pFoY2caFO</td>\n",
       "      <td>1Kilo</td>\n",
       "      <td>2wvtEiHUoRmjrqRfOrY26B</td>\n",
       "    </tr>\n",
       "    <tr>\n",
       "      <th>31411</th>\n",
       "      <td>70</td>\n",
       "      <td>2376733</td>\n",
       "      <td>['brazilian electronica', 'brazilian hip hop',...</td>\n",
       "      <td>6E2st8OqIaS7PU5gj95FSE</td>\n",
       "      <td>1Kilo</td>\n",
       "      <td>5GNT8tXCqPop8K4t3hvVaH</td>\n",
       "    </tr>\n",
       "    <tr>\n",
       "      <th>38836</th>\n",
       "      <td>54</td>\n",
       "      <td>144334</td>\n",
       "      <td>['boy band', 'bubblegum dance', 'dance pop', '...</td>\n",
       "      <td>5lPsVvHVDr6R5mDxRUXdOs</td>\n",
       "      <td>A1</td>\n",
       "      <td>6n2AhEoxaAdArhe6sy6tcC</td>\n",
       "    </tr>\n",
       "    <tr>\n",
       "      <th>46459</th>\n",
       "      <td>49</td>\n",
       "      <td>3937</td>\n",
       "      <td>NaN</td>\n",
       "      <td>4QMVGiEbc5NbK2cZzyGgqa</td>\n",
       "      <td>A1</td>\n",
       "      <td>5iemVO9OZkHyGcj8jhqEoM</td>\n",
       "    </tr>\n",
       "    <tr>\n",
       "      <th>25539</th>\n",
       "      <td>55</td>\n",
       "      <td>121122</td>\n",
       "      <td>['brazilian hip hop', 'funk ostentacao']</td>\n",
       "      <td>6Ywb1no2hXLazjIs4LUiQD</td>\n",
       "      <td>ADL</td>\n",
       "      <td>2h608VVCmqu4bIw9ye0FeX</td>\n",
       "    </tr>\n",
       "    <tr>\n",
       "      <th>...</th>\n",
       "      <td>...</td>\n",
       "      <td>...</td>\n",
       "      <td>...</td>\n",
       "      <td>...</td>\n",
       "      <td>...</td>\n",
       "      <td>...</td>\n",
       "    </tr>\n",
       "    <tr>\n",
       "      <th>41981</th>\n",
       "      <td>50</td>\n",
       "      <td>1103</td>\n",
       "      <td>['lo-fi beats']</td>\n",
       "      <td>5T0wPeBVC0F7uEbIr8JKE5</td>\n",
       "      <td>twuan</td>\n",
       "      <td>6vMNCdqPDr78Pt6FQBuHBS</td>\n",
       "    </tr>\n",
       "    <tr>\n",
       "      <th>48141</th>\n",
       "      <td>64</td>\n",
       "      <td>63177</td>\n",
       "      <td>NaN</td>\n",
       "      <td>3abT87tqQ4Q5PA5nw6CYyH</td>\n",
       "      <td>Ángela Aguilar</td>\n",
       "      <td>7L3borCR5Izc7zJjFpjjhh</td>\n",
       "    </tr>\n",
       "    <tr>\n",
       "      <th>7345</th>\n",
       "      <td>43</td>\n",
       "      <td>104</td>\n",
       "      <td>NaN</td>\n",
       "      <td>2Qk5eQ0z5H7bk4dyaK6iDo</td>\n",
       "      <td>Ángela Aguilar</td>\n",
       "      <td>2keN15BswHOxejdRAaMT8s</td>\n",
       "    </tr>\n",
       "    <tr>\n",
       "      <th>42692</th>\n",
       "      <td>70</td>\n",
       "      <td>1083646</td>\n",
       "      <td>['latin', 'latin hip hop', 'reggaeton', 'regga...</td>\n",
       "      <td>2OHKEe204spO7G7NcbeO2o</td>\n",
       "      <td>Ñejo</td>\n",
       "      <td>4i7xtBMBUWEecEw780fRtX</td>\n",
       "    </tr>\n",
       "    <tr>\n",
       "      <th>22528</th>\n",
       "      <td>36</td>\n",
       "      <td>31</td>\n",
       "      <td>NaN</td>\n",
       "      <td>3T54UBNem1hVTQulCdqWfq</td>\n",
       "      <td>Ñejo</td>\n",
       "      <td>4OfK9MAPV8MvRWMxxPpU1m</td>\n",
       "    </tr>\n",
       "  </tbody>\n",
       "</table>\n",
       "<p>1174 rows × 6 columns</p>\n",
       "</div>"
      ],
      "text/plain": [
       "       artist_popularity  followers  \\\n",
       "27267                 34        125   \n",
       "31411                 70    2376733   \n",
       "38836                 54     144334   \n",
       "46459                 49       3937   \n",
       "25539                 55     121122   \n",
       "...                  ...        ...   \n",
       "41981                 50       1103   \n",
       "48141                 64      63177   \n",
       "7345                  43        104   \n",
       "42692                 70    1083646   \n",
       "22528                 36         31   \n",
       "\n",
       "                                                  genres  \\\n",
       "27267                                                NaN   \n",
       "31411  ['brazilian electronica', 'brazilian hip hop',...   \n",
       "38836  ['boy band', 'bubblegum dance', 'dance pop', '...   \n",
       "46459                                                NaN   \n",
       "25539           ['brazilian hip hop', 'funk ostentacao']   \n",
       "...                                                  ...   \n",
       "41981                                    ['lo-fi beats']   \n",
       "48141                                                NaN   \n",
       "7345                                                 NaN   \n",
       "42692  ['latin', 'latin hip hop', 'reggaeton', 'regga...   \n",
       "22528                                                NaN   \n",
       "\n",
       "                    artist_id     artist_name                track_id  \n",
       "27267  2vRMFS86tSrD1pFoY2caFO           1Kilo  2wvtEiHUoRmjrqRfOrY26B  \n",
       "31411  6E2st8OqIaS7PU5gj95FSE           1Kilo  5GNT8tXCqPop8K4t3hvVaH  \n",
       "38836  5lPsVvHVDr6R5mDxRUXdOs              A1  6n2AhEoxaAdArhe6sy6tcC  \n",
       "46459  4QMVGiEbc5NbK2cZzyGgqa              A1  5iemVO9OZkHyGcj8jhqEoM  \n",
       "25539  6Ywb1no2hXLazjIs4LUiQD             ADL  2h608VVCmqu4bIw9ye0FeX  \n",
       "...                       ...             ...                     ...  \n",
       "41981  5T0wPeBVC0F7uEbIr8JKE5           twuan  6vMNCdqPDr78Pt6FQBuHBS  \n",
       "48141  3abT87tqQ4Q5PA5nw6CYyH  Ángela Aguilar  7L3borCR5Izc7zJjFpjjhh  \n",
       "7345   2Qk5eQ0z5H7bk4dyaK6iDo  Ángela Aguilar  2keN15BswHOxejdRAaMT8s  \n",
       "42692  2OHKEe204spO7G7NcbeO2o            Ñejo  4i7xtBMBUWEecEw780fRtX  \n",
       "22528  3T54UBNem1hVTQulCdqWfq            Ñejo  4OfK9MAPV8MvRWMxxPpU1m  \n",
       "\n",
       "[1174 rows x 6 columns]"
      ]
     },
     "execution_count": 299,
     "metadata": {},
     "output_type": "execute_result"
    }
   ],
   "source": [
    "# Why are there any artists with multiple entries in the artists dataset? \n",
    "# What does it mean for them to have different values in each column?\n",
    "artists.loc[artists.artist_name.isin(list(repeat_artists.index))].sort_values(\"artist_name\")"
   ]
  },
  {
   "cell_type": "markdown",
   "metadata": {},
   "source": [
    "2. Which artists have the highest `artist_popularity` rankings?"
   ]
  },
  {
   "cell_type": "code",
   "execution_count": 315,
   "metadata": {},
   "outputs": [
    {
     "data": {
      "text/html": [
       "<div>\n",
       "<style scoped>\n",
       "    .dataframe tbody tr th:only-of-type {\n",
       "        vertical-align: middle;\n",
       "    }\n",
       "\n",
       "    .dataframe tbody tr th {\n",
       "        vertical-align: top;\n",
       "    }\n",
       "\n",
       "    .dataframe thead th {\n",
       "        text-align: right;\n",
       "    }\n",
       "</style>\n",
       "<table border=\"1\" class=\"dataframe\">\n",
       "  <thead>\n",
       "    <tr style=\"text-align: right;\">\n",
       "      <th></th>\n",
       "      <th>artist_name</th>\n",
       "      <th>artist_popularity</th>\n",
       "    </tr>\n",
       "  </thead>\n",
       "  <tbody>\n",
       "    <tr>\n",
       "      <th>42872</th>\n",
       "      <td>Ariana Grande</td>\n",
       "      <td>100</td>\n",
       "    </tr>\n",
       "    <tr>\n",
       "      <th>53392</th>\n",
       "      <td>Drake</td>\n",
       "      <td>98</td>\n",
       "    </tr>\n",
       "    <tr>\n",
       "      <th>49775</th>\n",
       "      <td>Post Malone</td>\n",
       "      <td>96</td>\n",
       "    </tr>\n",
       "    <tr>\n",
       "      <th>55822</th>\n",
       "      <td>XXXTENTACION</td>\n",
       "      <td>95</td>\n",
       "    </tr>\n",
       "    <tr>\n",
       "      <th>49695</th>\n",
       "      <td>Juice WRLD</td>\n",
       "      <td>95</td>\n",
       "    </tr>\n",
       "    <tr>\n",
       "      <th>53406</th>\n",
       "      <td>Khalid</td>\n",
       "      <td>95</td>\n",
       "    </tr>\n",
       "    <tr>\n",
       "      <th>52306</th>\n",
       "      <td>Ozuna</td>\n",
       "      <td>95</td>\n",
       "    </tr>\n",
       "    <tr>\n",
       "      <th>55502</th>\n",
       "      <td>Bad Bunny</td>\n",
       "      <td>94</td>\n",
       "    </tr>\n",
       "    <tr>\n",
       "      <th>49320</th>\n",
       "      <td>Travis Scott</td>\n",
       "      <td>94</td>\n",
       "    </tr>\n",
       "    <tr>\n",
       "      <th>39126</th>\n",
       "      <td>Queen</td>\n",
       "      <td>94</td>\n",
       "    </tr>\n",
       "  </tbody>\n",
       "</table>\n",
       "</div>"
      ],
      "text/plain": [
       "         artist_name  artist_popularity\n",
       "42872  Ariana Grande                100\n",
       "53392          Drake                 98\n",
       "49775    Post Malone                 96\n",
       "55822   XXXTENTACION                 95\n",
       "49695     Juice WRLD                 95\n",
       "53406         Khalid                 95\n",
       "52306          Ozuna                 95\n",
       "55502      Bad Bunny                 94\n",
       "49320   Travis Scott                 94\n",
       "39126          Queen                 94"
      ]
     },
     "execution_count": 315,
     "metadata": {},
     "output_type": "execute_result"
    }
   ],
   "source": [
    "artists.sort_values('artist_popularity', ascending=False).iloc[0:10][['artist_name', 'artist_popularity']]"
   ]
  }
 ],
 "metadata": {
  "kernelspec": {
   "display_name": "Python 3.7.15 ('venv': venv)",
   "language": "python",
   "name": "python3"
  },
  "language_info": {
   "codemirror_mode": {
    "name": "ipython",
    "version": 3
   },
   "file_extension": ".py",
   "mimetype": "text/x-python",
   "name": "python",
   "nbconvert_exporter": "python",
   "pygments_lexer": "ipython3",
   "version": "3.7.15"
  },
  "orig_nbformat": 4,
  "vscode": {
   "interpreter": {
    "hash": "8ab1904a3ccfd7912ae2a1bb0c92d74bbbe33c89130848f60ca22d8dba221c29"
   }
  }
 },
 "nbformat": 4,
 "nbformat_minor": 2
}
